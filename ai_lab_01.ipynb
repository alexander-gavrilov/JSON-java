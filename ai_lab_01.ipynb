{
  "nbformat": 4,
  "nbformat_minor": 0,
  "metadata": {
    "colab": {
      "provenance": [],
      "authorship_tag": "ABX9TyNzgzr1jzOiX6c9LBgdADME",
      "include_colab_link": true
    },
    "kernelspec": {
      "name": "python3",
      "display_name": "Python 3"
    },
    "language_info": {
      "name": "python"
    }
  },
  "cells": [
    {
      "cell_type": "markdown",
      "metadata": {
        "id": "view-in-github",
        "colab_type": "text"
      },
      "source": [
        "<a href=\"https://colab.research.google.com/github/alexander-gavrilov/JSON-java/blob/master/ai_lab_01.ipynb\" target=\"_parent\"><img src=\"https://colab.research.google.com/assets/colab-badge.svg\" alt=\"Open In Colab\"/></a>"
      ]
    },
    {
      "cell_type": "code",
      "execution_count": 1,
      "metadata": {
        "colab": {
          "base_uri": "https://localhost:8080/",
          "height": 384
        },
        "id": "_MFoABkRyEOH",
        "outputId": "0d5cac74-c86d-4915-eaac-3642965577b9"
      },
      "outputs": [
        {
          "output_type": "error",
          "ename": "ModuleNotFoundError",
          "evalue": "No module named 'langchain'",
          "traceback": [
            "\u001b[0;31m---------------------------------------------------------------------------\u001b[0m",
            "\u001b[0;31mModuleNotFoundError\u001b[0m                       Traceback (most recent call last)",
            "\u001b[0;32m<ipython-input-1-f5f41bf5f851>\u001b[0m in \u001b[0;36m<cell line: 3>\u001b[0;34m()\u001b[0m\n\u001b[1;32m      1\u001b[0m \u001b[0;32mimport\u001b[0m \u001b[0mpandas\u001b[0m \u001b[0;32mas\u001b[0m \u001b[0mpd\u001b[0m\u001b[0;34m\u001b[0m\u001b[0;34m\u001b[0m\u001b[0m\n\u001b[1;32m      2\u001b[0m \u001b[0;32mimport\u001b[0m \u001b[0mjson\u001b[0m\u001b[0;34m\u001b[0m\u001b[0;34m\u001b[0m\u001b[0m\n\u001b[0;32m----> 3\u001b[0;31m \u001b[0;32mfrom\u001b[0m \u001b[0mlangchain\u001b[0m\u001b[0;34m.\u001b[0m\u001b[0mllms\u001b[0m \u001b[0;32mimport\u001b[0m \u001b[0mOpenAI\u001b[0m\u001b[0;34m\u001b[0m\u001b[0;34m\u001b[0m\u001b[0m\n\u001b[0m\u001b[1;32m      4\u001b[0m \u001b[0;32mfrom\u001b[0m \u001b[0mlangchain\u001b[0m\u001b[0;34m.\u001b[0m\u001b[0mprompts\u001b[0m \u001b[0;32mimport\u001b[0m \u001b[0mPromptTemplate\u001b[0m\u001b[0;34m\u001b[0m\u001b[0;34m\u001b[0m\u001b[0m\n\u001b[1;32m      5\u001b[0m \u001b[0;32mfrom\u001b[0m \u001b[0mlangchain\u001b[0m\u001b[0;34m.\u001b[0m\u001b[0mchains\u001b[0m \u001b[0;32mimport\u001b[0m \u001b[0mLLMChain\u001b[0m\u001b[0;34m\u001b[0m\u001b[0;34m\u001b[0m\u001b[0m\n",
            "\u001b[0;31mModuleNotFoundError\u001b[0m: No module named 'langchain'",
            "",
            "\u001b[0;31m---------------------------------------------------------------------------\u001b[0;32m\nNOTE: If your import is failing due to a missing package, you can\nmanually install dependencies using either !pip or !apt.\n\nTo view examples of installing some common dependencies, click the\n\"Open Examples\" button below.\n\u001b[0;31m---------------------------------------------------------------------------\u001b[0m\n"
          ],
          "errorDetails": {
            "actions": [
              {
                "action": "open_url",
                "actionText": "Open Examples",
                "url": "/notebooks/snippets/importing_libraries.ipynb"
              }
            ]
          }
        }
      ],
      "source": [
        "import pandas as pd\n",
        "import json\n",
        "from langchain.llms import OpenAI\n",
        "from langchain.prompts import PromptTemplate\n",
        "from langchain.chains import LLMChain\n",
        "\n",
        "# Function to load the Excel file\n",
        "def load_excel_file(file_path):\n",
        "    return pd.read_excel(file_path, engine='openpyxl')\n",
        "\n",
        "# Initialize the OpenAI model with LangChain\n",
        "llm = OpenAI(model_name=\"gpt-4o-mini\", temperature=0.7)\n",
        "\n",
        "# Define the prompt template for calculating property area\n",
        "area_prompt_template = \"\"\"\n",
        "Given the following property description, calculate the total property area in square meters.\n",
        "\n",
        "Property Description: {description}\n",
        "\n",
        "Total Property Area (in square meters):\n",
        "\"\"\"\n",
        "\n",
        "area_prompt = PromptTemplate(template=area_prompt_template, input_variables=[\"description\"])\n",
        "area_chain = LLMChain(llm=llm, prompt=area_prompt)\n",
        "\n",
        "# Define the prompt template for validating property area\n",
        "validation_prompt_template = \"\"\"\n",
        "Given the following property description and calculated area, validate if the calculated area is correct.\n",
        "\n",
        "Property Description: {description}\n",
        "Calculated Area: {calculated_area} square meters\n",
        "\n",
        "Is the calculated area correct? (yes/no):\n",
        "\"\"\"\n",
        "\n",
        "validation_prompt = PromptTemplate(template=validation_prompt_template, input_variables=[\"description\", \"calculated_area\"])\n",
        "validation_chain = LLMChain(llm=llm, prompt=validation_prompt)\n",
        "\n",
        "# Function to calculate property area using OpenAI model\n",
        "def calculate_property_area(description):\n",
        "    response = area_chain.run(description)\n",
        "    # Extract the area from the response (assuming the model returns a number)\n",
        "    area_in_square_meters = float(response.strip())\n",
        "    return area_in_square_meters\n",
        "\n",
        "# Function to validate property area using OpenAI model\n",
        "def validate_property_area(description, calculated_area):\n",
        "    response = validation_chain.run(description=description, calculated_area=calculated_area)\n",
        "    # Extract the validation result from the response (assuming the model returns 'yes' or 'no')\n",
        "    validation_result = response.strip().lower()\n",
        "    return validation_result == 'yes'\n",
        "\n",
        "# Main function to process the Excel file and calculate property areas\n",
        "def process_properties(file_path):\n",
        "    df = load_excel_file(file_path)\n",
        "\n",
        "    # Create a dictionary to store the results\n",
        "    property_areas = {}\n",
        "\n",
        "    # Iterate through each row in the DataFrame and calculate property area\n",
        "    for index, row in df.iterrows():\n",
        "        property_id = row['property_id']\n",
        "        description = row['property_description']\n",
        "        area_in_square_meters = calculate_property_area(description)\n",
        "\n",
        "        # Validate the calculated area\n",
        "        if validate_property_area(description, area_in_square_meters):\n",
        "            property_areas[property_id] = area_in_square_meters\n",
        "        else:\n",
        "            print(f\"Validation failed for property ID {property_id}. Skipping this property.\")\n",
        "\n",
        "    # Convert the results to JSON format\n",
        "    result_json = json.dumps(property_areas, indent=4)\n",
        "\n",
        "    # Save the result to a JSON file\n",
        "    with open('property_areas.json', 'w') as json_file:\n",
        "        json_file.write(result_json)\n",
        "\n",
        "    print(\"Property areas have been calculated and saved to 'property_areas.json'.\")\n",
        "\n",
        "# Run the main function with the provided Excel file path\n",
        "process_properties('Copy of AI Lab 1 - Data - Topic 1- Information Extraction.xlsx')\n"
      ]
    }
  ]
}